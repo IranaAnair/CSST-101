{
  "nbformat": 4,
  "nbformat_minor": 0,
  "metadata": {
    "colab": {
      "provenance": []
    },
    "kernelspec": {
      "name": "python3",
      "display_name": "Python 3"
    },
    "language_info": {
      "name": "python"
    }
  },
  "cells": [
    {
      "cell_type": "markdown",
      "source": [
        "#Exercise 1: Setting up the environment"
      ],
      "metadata": {
        "id": "qNHhBjPb6zQJ"
      }
    },
    {
      "cell_type": "markdown",
      "source": [
        "Install Required Library"
      ],
      "metadata": {
        "id": "d-Rc4TIA7p2_"
      }
    },
    {
      "cell_type": "code",
      "source": [
        "!pip install pgmpy"
      ],
      "metadata": {
        "collapsed": true,
        "colab": {
          "base_uri": "https://localhost:8080/"
        },
        "id": "wkQga-qL7wHo",
        "outputId": "d3ed4157-5e95-48f5-cc02-3d42b3a03ede"
      },
      "execution_count": null,
      "outputs": [
        {
          "output_type": "stream",
          "name": "stdout",
          "text": [
            "Collecting pgmpy\n",
            "  Downloading pgmpy-0.1.26-py3-none-any.whl.metadata (9.1 kB)\n",
            "Requirement already satisfied: networkx in /usr/local/lib/python3.10/dist-packages (from pgmpy) (3.3)\n",
            "Requirement already satisfied: numpy in /usr/local/lib/python3.10/dist-packages (from pgmpy) (1.26.4)\n",
            "Requirement already satisfied: scipy in /usr/local/lib/python3.10/dist-packages (from pgmpy) (1.13.1)\n",
            "Requirement already satisfied: scikit-learn in /usr/local/lib/python3.10/dist-packages (from pgmpy) (1.5.2)\n",
            "Requirement already satisfied: pandas in /usr/local/lib/python3.10/dist-packages (from pgmpy) (2.2.2)\n",
            "Requirement already satisfied: pyparsing in /usr/local/lib/python3.10/dist-packages (from pgmpy) (3.1.4)\n",
            "Requirement already satisfied: torch in /usr/local/lib/python3.10/dist-packages (from pgmpy) (2.4.1+cu121)\n",
            "Requirement already satisfied: statsmodels in /usr/local/lib/python3.10/dist-packages (from pgmpy) (0.14.3)\n",
            "Requirement already satisfied: tqdm in /usr/local/lib/python3.10/dist-packages (from pgmpy) (4.66.5)\n",
            "Requirement already satisfied: joblib in /usr/local/lib/python3.10/dist-packages (from pgmpy) (1.4.2)\n",
            "Requirement already satisfied: opt-einsum in /usr/local/lib/python3.10/dist-packages (from pgmpy) (3.4.0)\n",
            "Requirement already satisfied: xgboost in /usr/local/lib/python3.10/dist-packages (from pgmpy) (2.1.1)\n",
            "Requirement already satisfied: google-generativeai in /usr/local/lib/python3.10/dist-packages (from pgmpy) (0.7.2)\n",
            "Requirement already satisfied: google-ai-generativelanguage==0.6.6 in /usr/local/lib/python3.10/dist-packages (from google-generativeai->pgmpy) (0.6.6)\n",
            "Requirement already satisfied: google-api-core in /usr/local/lib/python3.10/dist-packages (from google-generativeai->pgmpy) (2.19.2)\n",
            "Requirement already satisfied: google-api-python-client in /usr/local/lib/python3.10/dist-packages (from google-generativeai->pgmpy) (2.137.0)\n",
            "Requirement already satisfied: google-auth>=2.15.0 in /usr/local/lib/python3.10/dist-packages (from google-generativeai->pgmpy) (2.27.0)\n",
            "Requirement already satisfied: protobuf in /usr/local/lib/python3.10/dist-packages (from google-generativeai->pgmpy) (3.20.3)\n",
            "Requirement already satisfied: pydantic in /usr/local/lib/python3.10/dist-packages (from google-generativeai->pgmpy) (2.9.2)\n",
            "Requirement already satisfied: typing-extensions in /usr/local/lib/python3.10/dist-packages (from google-generativeai->pgmpy) (4.12.2)\n",
            "Requirement already satisfied: proto-plus<2.0.0dev,>=1.22.3 in /usr/local/lib/python3.10/dist-packages (from google-ai-generativelanguage==0.6.6->google-generativeai->pgmpy) (1.24.0)\n",
            "Requirement already satisfied: python-dateutil>=2.8.2 in /usr/local/lib/python3.10/dist-packages (from pandas->pgmpy) (2.8.2)\n",
            "Requirement already satisfied: pytz>=2020.1 in /usr/local/lib/python3.10/dist-packages (from pandas->pgmpy) (2024.2)\n",
            "Requirement already satisfied: tzdata>=2022.7 in /usr/local/lib/python3.10/dist-packages (from pandas->pgmpy) (2024.2)\n",
            "Requirement already satisfied: threadpoolctl>=3.1.0 in /usr/local/lib/python3.10/dist-packages (from scikit-learn->pgmpy) (3.5.0)\n",
            "Requirement already satisfied: patsy>=0.5.6 in /usr/local/lib/python3.10/dist-packages (from statsmodels->pgmpy) (0.5.6)\n",
            "Requirement already satisfied: packaging>=21.3 in /usr/local/lib/python3.10/dist-packages (from statsmodels->pgmpy) (24.1)\n",
            "Requirement already satisfied: filelock in /usr/local/lib/python3.10/dist-packages (from torch->pgmpy) (3.16.1)\n",
            "Requirement already satisfied: sympy in /usr/local/lib/python3.10/dist-packages (from torch->pgmpy) (1.13.3)\n",
            "Requirement already satisfied: jinja2 in /usr/local/lib/python3.10/dist-packages (from torch->pgmpy) (3.1.4)\n",
            "Requirement already satisfied: fsspec in /usr/local/lib/python3.10/dist-packages (from torch->pgmpy) (2024.6.1)\n",
            "Requirement already satisfied: nvidia-nccl-cu12 in /usr/local/lib/python3.10/dist-packages (from xgboost->pgmpy) (2.23.4)\n",
            "Requirement already satisfied: googleapis-common-protos<2.0.dev0,>=1.56.2 in /usr/local/lib/python3.10/dist-packages (from google-api-core->google-generativeai->pgmpy) (1.65.0)\n",
            "Requirement already satisfied: requests<3.0.0.dev0,>=2.18.0 in /usr/local/lib/python3.10/dist-packages (from google-api-core->google-generativeai->pgmpy) (2.32.3)\n",
            "Requirement already satisfied: cachetools<6.0,>=2.0.0 in /usr/local/lib/python3.10/dist-packages (from google-auth>=2.15.0->google-generativeai->pgmpy) (5.5.0)\n",
            "Requirement already satisfied: pyasn1-modules>=0.2.1 in /usr/local/lib/python3.10/dist-packages (from google-auth>=2.15.0->google-generativeai->pgmpy) (0.4.1)\n",
            "Requirement already satisfied: rsa<5,>=3.1.4 in /usr/local/lib/python3.10/dist-packages (from google-auth>=2.15.0->google-generativeai->pgmpy) (4.9)\n",
            "Requirement already satisfied: six in /usr/local/lib/python3.10/dist-packages (from patsy>=0.5.6->statsmodels->pgmpy) (1.16.0)\n",
            "Requirement already satisfied: httplib2<1.dev0,>=0.19.0 in /usr/local/lib/python3.10/dist-packages (from google-api-python-client->google-generativeai->pgmpy) (0.22.0)\n",
            "Requirement already satisfied: google-auth-httplib2<1.0.0,>=0.2.0 in /usr/local/lib/python3.10/dist-packages (from google-api-python-client->google-generativeai->pgmpy) (0.2.0)\n",
            "Requirement already satisfied: uritemplate<5,>=3.0.1 in /usr/local/lib/python3.10/dist-packages (from google-api-python-client->google-generativeai->pgmpy) (4.1.1)\n",
            "Requirement already satisfied: MarkupSafe>=2.0 in /usr/local/lib/python3.10/dist-packages (from jinja2->torch->pgmpy) (2.1.5)\n",
            "Requirement already satisfied: annotated-types>=0.6.0 in /usr/local/lib/python3.10/dist-packages (from pydantic->google-generativeai->pgmpy) (0.7.0)\n",
            "Requirement already satisfied: pydantic-core==2.23.4 in /usr/local/lib/python3.10/dist-packages (from pydantic->google-generativeai->pgmpy) (2.23.4)\n",
            "Requirement already satisfied: mpmath<1.4,>=1.1.0 in /usr/local/lib/python3.10/dist-packages (from sympy->torch->pgmpy) (1.3.0)\n",
            "Requirement already satisfied: grpcio<2.0dev,>=1.33.2 in /usr/local/lib/python3.10/dist-packages (from google-api-core[grpc]!=2.0.*,!=2.1.*,!=2.10.*,!=2.2.*,!=2.3.*,!=2.4.*,!=2.5.*,!=2.6.*,!=2.7.*,!=2.8.*,!=2.9.*,<3.0.0dev,>=1.34.1->google-ai-generativelanguage==0.6.6->google-generativeai->pgmpy) (1.64.1)\n",
            "Requirement already satisfied: grpcio-status<2.0.dev0,>=1.33.2 in /usr/local/lib/python3.10/dist-packages (from google-api-core[grpc]!=2.0.*,!=2.1.*,!=2.10.*,!=2.2.*,!=2.3.*,!=2.4.*,!=2.5.*,!=2.6.*,!=2.7.*,!=2.8.*,!=2.9.*,<3.0.0dev,>=1.34.1->google-ai-generativelanguage==0.6.6->google-generativeai->pgmpy) (1.48.2)\n",
            "Requirement already satisfied: pyasn1<0.7.0,>=0.4.6 in /usr/local/lib/python3.10/dist-packages (from pyasn1-modules>=0.2.1->google-auth>=2.15.0->google-generativeai->pgmpy) (0.6.1)\n",
            "Requirement already satisfied: charset-normalizer<4,>=2 in /usr/local/lib/python3.10/dist-packages (from requests<3.0.0.dev0,>=2.18.0->google-api-core->google-generativeai->pgmpy) (3.3.2)\n",
            "Requirement already satisfied: idna<4,>=2.5 in /usr/local/lib/python3.10/dist-packages (from requests<3.0.0.dev0,>=2.18.0->google-api-core->google-generativeai->pgmpy) (3.10)\n",
            "Requirement already satisfied: urllib3<3,>=1.21.1 in /usr/local/lib/python3.10/dist-packages (from requests<3.0.0.dev0,>=2.18.0->google-api-core->google-generativeai->pgmpy) (2.2.3)\n",
            "Requirement already satisfied: certifi>=2017.4.17 in /usr/local/lib/python3.10/dist-packages (from requests<3.0.0.dev0,>=2.18.0->google-api-core->google-generativeai->pgmpy) (2024.8.30)\n",
            "Downloading pgmpy-0.1.26-py3-none-any.whl (2.0 MB)\n",
            "\u001b[2K   \u001b[90m━━━━━━━━━━━━━━━━━━━━━━━━━━━━━━━━━━━━━━━━\u001b[0m \u001b[32m2.0/2.0 MB\u001b[0m \u001b[31m8.8 MB/s\u001b[0m eta \u001b[36m0:00:00\u001b[0m\n",
            "\u001b[?25hInstalling collected packages: pgmpy\n",
            "Successfully installed pgmpy-0.1.26\n"
          ]
        }
      ]
    },
    {
      "cell_type": "markdown",
      "source": [
        "Import Libraries"
      ],
      "metadata": {
        "id": "YIHA2QzR7B9I"
      }
    },
    {
      "cell_type": "code",
      "source": [
        "import numpy as np\n",
        "import pandas as pd\n",
        "from pgmpy.models import BayesianNetwork\n",
        "from pgmpy.inference import VariableElimination\n",
        "from pgmpy.inference import BeliefPropagation\n",
        "from pgmpy.factors.discrete import TabularCPD"
      ],
      "metadata": {
        "id": "sNWjvA6aJPaI"
      },
      "execution_count": null,
      "outputs": []
    },
    {
      "cell_type": "markdown",
      "source": [
        "#Exercise 2: Building a Simple Bayesian Network"
      ],
      "metadata": {
        "id": "4V-IejMn7nl3"
      }
    },
    {
      "cell_type": "markdown",
      "source": [
        "Define the Structure"
      ],
      "metadata": {
        "id": "PLen8oRf7_TQ"
      }
    },
    {
      "cell_type": "code",
      "source": [
        "#Define the structure of the Bayesian Network\n",
        "model = BayesianNetwork([('Weather', 'Traffic'), ('Traffic', 'Late')])"
      ],
      "metadata": {
        "id": "CFy-hKrA8Ewf"
      },
      "execution_count": null,
      "outputs": []
    },
    {
      "cell_type": "markdown",
      "source": [
        "Define Conditional Probability Tables (CPTs)"
      ],
      "metadata": {
        "id": "j5ggp0sy8jiQ"
      }
    },
    {
      "cell_type": "code",
      "source": [
        "#Weather CPD\n",
        "cpd_weather = TabularCPD(variable='Weather', variable_card=2, values=[[0.8], [0.2]])\n",
        "\n",
        "#Traffic CPD given Weather\n",
        "cpd_traffic_given_weather = TabularCPD(variable='Traffic', variable_card=2, values=[[0.9, 0.5], [0.1, 0.5]], evidence=['Weather'], evidence_card=[2])\n",
        "\n",
        "#Late CPD given Traffic\n",
        "cpd_late = TabularCPD(variable='Late', variable_card=2, values=[[0.95, 0.4], [0.05, 0.6]], evidence=['Traffic'], evidence_card=[2])\n",
        "\n",
        "#Add CPDs to the model\n",
        "model.add_cpds(cpd_weather, cpd_traffic_given_weather, cpd_late)\n",
        "\n",
        "#Check if the model is valid\n",
        "assert model.check_model()"
      ],
      "metadata": {
        "id": "VoOxwp4K8mjA"
      },
      "execution_count": null,
      "outputs": []
    },
    {
      "cell_type": "markdown",
      "source": [
        "#Exercise 3: Querying the Bayesian Network"
      ],
      "metadata": {
        "id": "TOlgyo8f-RAI"
      }
    },
    {
      "cell_type": "code",
      "source": [
        "#Create an inference object\n",
        "inference = VariableElimination(model)\n",
        "\n",
        "#Query the probability of being Late given that Weather is Rainy\n",
        "result = inference.query(variables=['Late'], evidence={'Weather': 1}) #1 corresponds\n",
        "print(result)"
      ],
      "metadata": {
        "colab": {
          "base_uri": "https://localhost:8080/"
        },
        "id": "Oa77veZB-XzQ",
        "outputId": "8fbe798a-d8e0-4899-beda-e0b4dadbd4ff"
      },
      "execution_count": null,
      "outputs": [
        {
          "output_type": "stream",
          "name": "stdout",
          "text": [
            "+---------+-------------+\n",
            "| Late    |   phi(Late) |\n",
            "+=========+=============+\n",
            "| Late(0) |      0.6750 |\n",
            "+---------+-------------+\n",
            "| Late(1) |      0.3250 |\n",
            "+---------+-------------+\n"
          ]
        }
      ]
    },
    {
      "cell_type": "markdown",
      "source": [
        "#Exercise 4: Parameter Learning"
      ],
      "metadata": {
        "id": "1n7gWmwF_Bs3"
      }
    },
    {
      "cell_type": "markdown",
      "source": [
        "Simulate a Dataset"
      ],
      "metadata": {
        "id": "DUin2wCL_DNX"
      }
    },
    {
      "cell_type": "code",
      "source": [
        "#Create a synthetic dataset\n",
        "#0 for Sunny, 1 for Rainy\n",
        "data = pd.DataFrame({'Weather': np.random.choice([0, 1], size=1000, p=[0.8, 0.2]), 'Traffic': np.nan, 'Late': np.nan})\n",
        "\n",
        "#Fill Traffic based on Weather\n",
        "data.loc[data['Weather'] == 0, 'Traffic'] = np.random.choice([0, 1], size=data[data['Weather']==0].shape[0], p=[0.9, 0.1])\n",
        "data.loc[data['Weather'] == 1, 'Traffic'] = np.random.choice([0, 1], size=data[data['Weather']==1].shape[0], p=[0.5, 0.5])\n",
        "\n",
        "#Fill Late based on Traffic\n",
        "data['Late']= np.where(data['Traffic']==0, np.random.choice([0, 1], size=data.shape[0], p=[0.95, 0.05]), np.random.choice([0, 1], size=data.shape[0], p=[0.4, 0.6]))"
      ],
      "metadata": {
        "id": "1mbgdqby_Fto"
      },
      "execution_count": null,
      "outputs": []
    },
    {
      "cell_type": "markdown",
      "source": [
        "Estimate the Parameters"
      ],
      "metadata": {
        "id": "YTLikHOMBPkX"
      }
    },
    {
      "cell_type": "code",
      "source": [
        "from pgmpy.estimators import MaximumLikelihoodEstimator\n",
        "\n",
        "#Create a Bayesian Model\n",
        "model = BayesianNetwork([('Weather', 'Traffic'), ('Traffic', 'Late')])\n",
        "\n",
        "#Fit the model to the data using Maximum Likelihood Estimation\n",
        "model.fit(data, estimator=MaximumLikelihoodEstimator)\n",
        "\n",
        "#Check the estimated CPDs\n",
        "for cpd in model.get_cpds():\n",
        "    print(cpd)"
      ],
      "metadata": {
        "colab": {
          "base_uri": "https://localhost:8080/"
        },
        "id": "yBrblvR9BSh_",
        "outputId": "4fdc8eff-9f0b-42a1-e523-dc4eca631564"
      },
      "execution_count": null,
      "outputs": [
        {
          "output_type": "stream",
          "name": "stdout",
          "text": [
            "+------------+-------+\n",
            "| Weather(0) | 0.808 |\n",
            "+------------+-------+\n",
            "| Weather(1) | 0.192 |\n",
            "+------------+-------+\n",
            "+--------------+---------------------+--------------------+\n",
            "| Weather      | Weather(0)          | Weather(1)         |\n",
            "+--------------+---------------------+--------------------+\n",
            "| Traffic(0.0) | 0.9071782178217822  | 0.5208333333333334 |\n",
            "+--------------+---------------------+--------------------+\n",
            "| Traffic(1.0) | 0.09282178217821782 | 0.4791666666666667 |\n",
            "+--------------+---------------------+--------------------+\n",
            "+---------+---------------------+---------------------+\n",
            "| Traffic | Traffic(0.0)        | Traffic(1.0)        |\n",
            "+---------+---------------------+---------------------+\n",
            "| Late(0) | 0.9567827130852341  | 0.38922155688622756 |\n",
            "+---------+---------------------+---------------------+\n",
            "| Late(1) | 0.04321728691476591 | 0.6107784431137725  |\n",
            "+---------+---------------------+---------------------+\n"
          ]
        }
      ]
    },
    {
      "cell_type": "markdown",
      "source": [
        "#Exercise 5: Visualizing the Bayesian Network"
      ],
      "metadata": {
        "id": "YNV8m6XFCKbA"
      }
    },
    {
      "cell_type": "markdown",
      "source": [
        "Visualize the Network Structure"
      ],
      "metadata": {
        "id": "m7DM8bE4CNsB"
      }
    },
    {
      "cell_type": "code",
      "source": [
        "import matplotlib.pyplot as plt\n",
        "import networkx as nx\n",
        "\n",
        "# Assuming 'model' is defined and has a method 'to_networkx'\n",
        "# Convert the Bayesian Model to a NetworkX graph\n",
        "nx_graph = nx.DiGraph(model.edges())\n",
        "\n",
        "# Draw the graph\n",
        "plt.figure(figsize=(8, 6))\n",
        "pos = nx.spring_layout(nx_graph)\n",
        "\n",
        "# Draw nodes\n",
        "nx.draw_networkx_nodes(nx_graph, pos, node_color='pink', node_size=2600)\n",
        "\n",
        "# Draw labels\n",
        "labels = {node: node for node in nx_graph.nodes()}  # Create a dictionary for node labels\n",
        "nx.draw_networkx_labels(nx_graph, pos, labels=labels, font_size=11, font_color='black', font_weight='bold')\n",
        "\n",
        "# Draw edges\n",
        "nx.draw_networkx_edges(nx_graph, pos, arrows=True)\n",
        "\n",
        "plt.title('Bayesian Network Structure')\n",
        "plt.show()"
      ],
      "metadata": {
        "colab": {
          "base_uri": "https://localhost:8080/",
          "height": 521
        },
        "id": "vWOam4z8CO6w",
        "outputId": "5cbc3f43-821e-4b6f-933f-eb583715f4f9"
      },
      "execution_count": 19,
      "outputs": [
        {
          "output_type": "display_data",
          "data": {
            "text/plain": [
              "<Figure size 800x600 with 1 Axes>"
            ],
            "image/png": "[encoded data removed]"
          },
          "metadata": {}
        }
      ]
    }
  ]
}